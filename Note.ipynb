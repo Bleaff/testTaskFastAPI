{
 "cells": [
  {
   "attachments": {},
   "cell_type": "markdown",
   "metadata": {},
   "source": [
    "# DTF. Взаимодействие."
   ]
  },
  {
   "cell_type": "code",
   "execution_count": 41,
   "metadata": {},
   "outputs": [],
   "source": [
    "from DTF_API import DTF\n",
    "import asyncio\n",
    "\n",
    "dtf = DTF(token = \"79a24dbb2334b0a52a506db13f561cc006a6c2b52c12ed5ce2850eb5dd86a583\")\n"
   ]
  },
  {
   "attachments": {},
   "cell_type": "markdown",
   "metadata": {},
   "source": [
    " Методы работают все, но метод получения новых комментариев работает с багом: присылает только последний комментарий от определенного пользователя к записи. (С чем я сейчас и разбирался)"
   ]
  },
  {
   "cell_type": "code",
   "execution_count": 42,
   "metadata": {},
   "outputs": [
    {
     "data": {
      "text/plain": [
       "{'message': [{'id': 1612676,\n",
       "   'title': 'Этап авторизации + запрос пройден',\n",
       "   'intro': 'Ипользуя библиотеку requests',\n",
       "   'comments_id': {22484013,\n",
       "    22485169,\n",
       "    22485197,\n",
       "    23295777,\n",
       "    23299994,\n",
       "    23299997,\n",
       "    23300181,\n",
       "    23300405,\n",
       "    23300489,\n",
       "    23300495,\n",
       "    23300508,\n",
       "    23300509,\n",
       "    23300540,\n",
       "    23300541,\n",
       "    23300561,\n",
       "    23300563}},\n",
       "  {'id': 1612527,\n",
       "   'title': 'Hello world',\n",
       "   'intro': 'Первые шажки по парсу dtf.',\n",
       "   'comments_id': {22482162,\n",
       "    22482210,\n",
       "    22482537,\n",
       "    22482850,\n",
       "    22483137,\n",
       "    22484009,\n",
       "    22484033,\n",
       "    22484126,\n",
       "    22484144,\n",
       "    23232401,\n",
       "    23232478,\n",
       "    23295256,\n",
       "    23295261,\n",
       "    23295929,\n",
       "    23295938,\n",
       "    23295970,\n",
       "    23295992,\n",
       "    23295997,\n",
       "    23296896,\n",
       "    23297058,\n",
       "    23297063,\n",
       "    23297067,\n",
       "    23300006,\n",
       "    23300011,\n",
       "    23300015,\n",
       "    23300123,\n",
       "    23300125,\n",
       "    23300515,\n",
       "    23300516,\n",
       "    23300530,\n",
       "    23300535,\n",
       "    23300564,\n",
       "    23300566,\n",
       "    23300580,\n",
       "    23300581,\n",
       "    23300586,\n",
       "    23300588,\n",
       "    23300632,\n",
       "    23300634,\n",
       "    23300657,\n",
       "    23300658,\n",
       "    23300664,\n",
       "    23300668,\n",
       "    23300670}}]}"
      ]
     },
     "execution_count": 42,
     "metadata": {},
     "output_type": "execute_result"
    }
   ],
   "source": [
    "\"\"\"\n",
    "        Метод получения всех своих постов по данному токену.\n",
    "\"\"\"\n",
    "await dtf.get_all_my_entries()"
   ]
  },
  {
   "cell_type": "code",
   "execution_count": 43,
   "metadata": {},
   "outputs": [
    {
     "data": {
      "text/plain": [
       "{'message': [{'id': 1612676,\n",
       "   'title': 'Этап авторизации + запрос пройден',\n",
       "   'intro': 'Ипользуя библиотеку requests',\n",
       "   'comments_id': {22484013,\n",
       "    22485169,\n",
       "    22485197,\n",
       "    23295777,\n",
       "    23299994,\n",
       "    23299997,\n",
       "    23300181,\n",
       "    23300405,\n",
       "    23300489,\n",
       "    23300495,\n",
       "    23300508,\n",
       "    23300509,\n",
       "    23300540,\n",
       "    23300541,\n",
       "    23300561,\n",
       "    23300563}},\n",
       "  {'id': 1612527,\n",
       "   'title': 'Hello world',\n",
       "   'intro': 'Первые шажки по парсу dtf.',\n",
       "   'comments_id': {22482162,\n",
       "    22482210,\n",
       "    22482537,\n",
       "    22482850,\n",
       "    22483137,\n",
       "    22484009,\n",
       "    22484033,\n",
       "    22484126,\n",
       "    22484144,\n",
       "    23232401,\n",
       "    23232478,\n",
       "    23295256,\n",
       "    23295261,\n",
       "    23295929,\n",
       "    23295938,\n",
       "    23295970,\n",
       "    23295992,\n",
       "    23295997,\n",
       "    23296896,\n",
       "    23297058,\n",
       "    23297063,\n",
       "    23297067,\n",
       "    23300006,\n",
       "    23300011,\n",
       "    23300015,\n",
       "    23300123,\n",
       "    23300125,\n",
       "    23300515,\n",
       "    23300516,\n",
       "    23300530,\n",
       "    23300535,\n",
       "    23300564,\n",
       "    23300566,\n",
       "    23300580,\n",
       "    23300581,\n",
       "    23300586,\n",
       "    23300588,\n",
       "    23300632,\n",
       "    23300634,\n",
       "    23300657,\n",
       "    23300658,\n",
       "    23300664,\n",
       "    23300668,\n",
       "    23300670}}]}"
      ]
     },
     "execution_count": 43,
     "metadata": {},
     "output_type": "execute_result"
    }
   ],
   "source": [
    "\"\"\"\n",
    "        Метод получения всех своих постов по данному токену.\n",
    "\"\"\"\n",
    "await dtf.get_all_my_entries()"
   ]
  },
  {
   "cell_type": "code",
   "execution_count": 44,
   "metadata": {},
   "outputs": [
    {
     "name": "stdout",
     "output_type": "stream",
     "text": [
      "<comment.CommentTree object at 0x7f06016d5150>\n"
     ]
    },
    {
     "data": {
      "text/plain": [
       "'\\nimport asyncio\\nfrom DTF_API import DTF\\ndtf = DTF(token = \"79a24dbb2334b0a52a506db13f561cc006a6c2b52c12ed5ce2850eb5dd86a583\")\\nasync def posts():\\n    posts = await dtf.get_comments_by_post_id(1612676)\\n    print(posts)\\nasyncio.run(posts())\\n'"
      ]
     },
     "execution_count": 44,
     "metadata": {},
     "output_type": "execute_result"
    }
   ],
   "source": [
    "\n",
    "\"\"\"\n",
    "    Метод получения всех комментариев к посту по его id.\n",
    "\"\"\"\n",
    "# as an example we can use my entry Первые шажки \n",
    "\n",
    "posts = await dtf.get_comments_by_post_id(1612676)\n",
    "print(posts)\n",
    "# Не в юпитере метод рабоатет лучше \n",
    "\"\"\"\n",
    "import asyncio\n",
    "from DTF_API import DTF\n",
    "dtf = DTF(token = \"79a24dbb2334b0a52a506db13f561cc006a6c2b52c12ed5ce2850eb5dd86a583\")\n",
    "async def posts():\n",
    "    posts = await dtf.get_comments_by_post_id(1612676)\n",
    "    print(posts)\n",
    "asyncio.run(posts())\n",
    "\"\"\""
   ]
  },
  {
   "cell_type": "code",
   "execution_count": 45,
   "metadata": {},
   "outputs": [
    {
     "name": "stdout",
     "output_type": "stream",
     "text": [
      "0\n",
      "\u001b[33m[LOG]\u001b[0m:\u001b[34mData was collected\u001b[0m\n",
      "{}\n",
      "\u001b[33m[LOG]\u001b[0m:\u001b[34mData was parsed\u001b[0m\n"
     ]
    },
    {
     "data": {
      "text/plain": [
       "{}"
      ]
     },
     "execution_count": 45,
     "metadata": {},
     "output_type": "execute_result"
    }
   ],
   "source": [
    "\"\"\"\n",
    "    Метод получения новых комментариев со всех своих постов.\n",
    "\"\"\"\n",
    "await dtf.get_new_comments()\n"
   ]
  },
  {
   "cell_type": "code",
   "execution_count": 46,
   "metadata": {},
   "outputs": [
    {
     "data": {
      "text/plain": [
       "{23232478: [<comment.Comment at 0x7f0610492fe0>,\n",
       "  <comment.Comment at 0x7f0600db9de0>,\n",
       "  <comment.Comment at 0x7f06016d48e0>,\n",
       "  <comment.Comment at 0x7f06016d5c90>],\n",
       " 23232401: [<comment.Comment at 0x7f0601694ca0>],\n",
       " 22484144: [],\n",
       " 22484033: [<comment.Comment at 0x7f0600dba0b0>],\n",
       " 22483137: [],\n",
       " 22482537: [],\n",
       " 22482162: [<comment.Comment at 0x7f06016d54b0>]}"
      ]
     },
     "execution_count": 46,
     "metadata": {},
     "output_type": "execute_result"
    }
   ],
   "source": [
    "\"\"\"\n",
    "    Метод получения всех ответов на свои комментарии.\n",
    "\"\"\"\n",
    "await dtf.get_answers_on_my_comments()\n"
   ]
  },
  {
   "cell_type": "code",
   "execution_count": 47,
   "metadata": {},
   "outputs": [
    {
     "name": "stdout",
     "output_type": "stream",
     "text": [
      "[<comment.Comment object at 0x7f0600db9d50>]\n"
     ]
    }
   ],
   "source": [
    "\"\"\"\n",
    "    Метод получения дерева комментариев для конкретного комментария.\n",
    "\"\"\"\n",
    "res = await dtf.get_comment_tree(23232478)\n",
    "print(res)\n"
   ]
  },
  {
   "cell_type": "code",
   "execution_count": 48,
   "metadata": {},
   "outputs": [
    {
     "data": {
      "text/plain": [
       "'Метод ответа/комментирования'"
      ]
     },
     "execution_count": 48,
     "metadata": {},
     "output_type": "execute_result"
    }
   ],
   "source": [
    "\"\"\"Метод ответа/комментирования\"\"\"\n",
    "# await dtf.reply_to_comment(entry_id, id_to_reply, msg)\n"
   ]
  },
  {
   "cell_type": "code",
   "execution_count": 49,
   "metadata": {},
   "outputs": [
    {
     "data": {
      "text/plain": [
       "{'message': '', 'result': {'count': 0}}"
      ]
     },
     "execution_count": 49,
     "metadata": {},
     "output_type": "execute_result"
    }
   ],
   "source": [
    "\"\"\"Метод получения новых уведомлений\"\"\"\n",
    "await dtf.get_updates()\n",
    "\"\"\"Метод получения количества новых уведомлений\"\"\"\n",
    "await dtf.get_updates_count()"
   ]
  }
 ],
 "metadata": {
  "kernelspec": {
   "display_name": "fastapi",
   "language": "python",
   "name": "python3"
  },
  "language_info": {
   "codemirror_mode": {
    "name": "ipython",
    "version": 3
   },
   "file_extension": ".py",
   "mimetype": "text/x-python",
   "name": "python",
   "nbconvert_exporter": "python",
   "pygments_lexer": "ipython3",
   "version": "3.10.6"
  },
  "orig_nbformat": 4
 },
 "nbformat": 4,
 "nbformat_minor": 2
}
